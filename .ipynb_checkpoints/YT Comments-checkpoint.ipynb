{
 "cells": [
  {
   "cell_type": "code",
   "execution_count": 81,
   "metadata": {},
   "outputs": [],
   "source": [
    "import pandas as pd\n",
    "import numpy as np\n",
    "from sklearn.pipeline import Pipeline\n",
    "from sklearn.feature_extraction.text import CountVectorizer\n",
    "from sklearn.feature_extraction.text import TfidfTransformer"
   ]
  },
  {
   "cell_type": "code",
   "execution_count": 82,
   "metadata": {},
   "outputs": [
    {
     "data": {
      "text/html": [
       "<div>\n",
       "<style scoped>\n",
       "    .dataframe tbody tr th:only-of-type {\n",
       "        vertical-align: middle;\n",
       "    }\n",
       "\n",
       "    .dataframe tbody tr th {\n",
       "        vertical-align: top;\n",
       "    }\n",
       "\n",
       "    .dataframe thead th {\n",
       "        text-align: right;\n",
       "    }\n",
       "</style>\n",
       "<table border=\"1\" class=\"dataframe\">\n",
       "  <thead>\n",
       "    <tr style=\"text-align: right;\">\n",
       "      <th></th>\n",
       "      <th>COMMENT_ID</th>\n",
       "      <th>AUTHOR</th>\n",
       "      <th>DATE</th>\n",
       "      <th>CONTENT</th>\n",
       "      <th>CLASS</th>\n",
       "    </tr>\n",
       "  </thead>\n",
       "  <tbody>\n",
       "    <tr>\n",
       "      <th>730</th>\n",
       "      <td>z13fhbspolbawj5tn22bsbw5ynvlt1kku</td>\n",
       "      <td>Paul Crowder</td>\n",
       "      <td>2015-05-27T00:33:53.183000</td>\n",
       "      <td>This Will Always Be My Favorite Song&lt;br /&gt;But ...</td>\n",
       "      <td>0</td>\n",
       "    </tr>\n",
       "    <tr>\n",
       "      <th>547</th>\n",
       "      <td>z13utrmbosiawt10p22kextrikr0fprhh04</td>\n",
       "      <td>Tiny Tim</td>\n",
       "      <td>2014-10-11T02:28:19</td>\n",
       "      <td>What does that tattoo on her right tricep say?﻿</td>\n",
       "      <td>0</td>\n",
       "    </tr>\n",
       "    <tr>\n",
       "      <th>1007</th>\n",
       "      <td>z12expkpjuvlf1b0q23rcjwhlum4s5xym04</td>\n",
       "      <td>Victoria Morales</td>\n",
       "      <td>2015-02-08T05:34:28.216000</td>\n",
       "      <td>Check out this video on YouTube:﻿</td>\n",
       "      <td>1</td>\n",
       "    </tr>\n",
       "    <tr>\n",
       "      <th>491</th>\n",
       "      <td>z12ltv24dmert1m1k23ajhgo4kydixwnf</td>\n",
       "      <td>Mohammad Abdelhafez</td>\n",
       "      <td>2014-09-20T12:33:21</td>\n",
       "      <td>Hey guys subscribe to my channel for no reason...</td>\n",
       "      <td>1</td>\n",
       "    </tr>\n",
       "    <tr>\n",
       "      <th>939</th>\n",
       "      <td>z12hsxrbio20xj1x504cfrsylnzmwlcx4i0</td>\n",
       "      <td>Wayne Jackson</td>\n",
       "      <td>2015-04-15T11:00:09.313000</td>\n",
       "      <td>Check out this video on YouTube:﻿</td>\n",
       "      <td>1</td>\n",
       "    </tr>\n",
       "  </tbody>\n",
       "</table>\n",
       "</div>"
      ],
      "text/plain": [
       "                               COMMENT_ID               AUTHOR  \\\n",
       "730     z13fhbspolbawj5tn22bsbw5ynvlt1kku         Paul Crowder   \n",
       "547   z13utrmbosiawt10p22kextrikr0fprhh04             Tiny Tim   \n",
       "1007  z12expkpjuvlf1b0q23rcjwhlum4s5xym04     Victoria Morales   \n",
       "491     z12ltv24dmert1m1k23ajhgo4kydixwnf  Mohammad Abdelhafez   \n",
       "939   z12hsxrbio20xj1x504cfrsylnzmwlcx4i0        Wayne Jackson   \n",
       "\n",
       "                            DATE  \\\n",
       "730   2015-05-27T00:33:53.183000   \n",
       "547          2014-10-11T02:28:19   \n",
       "1007  2015-02-08T05:34:28.216000   \n",
       "491          2014-09-20T12:33:21   \n",
       "939   2015-04-15T11:00:09.313000   \n",
       "\n",
       "                                                CONTENT  CLASS  \n",
       "730   This Will Always Be My Favorite Song<br />But ...      0  \n",
       "547     What does that tattoo on her right tricep say?﻿      0  \n",
       "1007                  Check out this video on YouTube:﻿      1  \n",
       "491   Hey guys subscribe to my channel for no reason...      1  \n",
       "939                   Check out this video on YouTube:﻿      1  "
      ]
     },
     "execution_count": 82,
     "metadata": {},
     "output_type": "execute_result"
    }
   ],
   "source": [
    "dfYT_train = pd.read_csv('YouTubeCommentsTrain.csv')\n",
    "dfYT_test = pd.read_csv('YouTubeCommentsTest.csv')\n",
    "\n",
    "dfYT_train = dfYT_train.sample(frac=1)\n",
    "dfYT_test = dfYT_test.sample(frac=1)\n",
    "\n",
    "dfYT_train.head()"
   ]
  },
  {
   "cell_type": "code",
   "execution_count": 83,
   "metadata": {},
   "outputs": [
    {
     "data": {
      "text/html": [
       "<div>\n",
       "<style scoped>\n",
       "    .dataframe tbody tr th:only-of-type {\n",
       "        vertical-align: middle;\n",
       "    }\n",
       "\n",
       "    .dataframe tbody tr th {\n",
       "        vertical-align: top;\n",
       "    }\n",
       "\n",
       "    .dataframe thead th {\n",
       "        text-align: right;\n",
       "    }\n",
       "</style>\n",
       "<table border=\"1\" class=\"dataframe\">\n",
       "  <thead>\n",
       "    <tr style=\"text-align: right;\">\n",
       "      <th></th>\n",
       "      <th>CONTENT</th>\n",
       "      <th>CLASS</th>\n",
       "    </tr>\n",
       "  </thead>\n",
       "  <tbody>\n",
       "    <tr>\n",
       "      <th>730</th>\n",
       "      <td>This Will Always Be My Favorite Song&lt;br /&gt;But ...</td>\n",
       "      <td>0</td>\n",
       "    </tr>\n",
       "    <tr>\n",
       "      <th>547</th>\n",
       "      <td>What does that tattoo on her right tricep say?﻿</td>\n",
       "      <td>0</td>\n",
       "    </tr>\n",
       "    <tr>\n",
       "      <th>1007</th>\n",
       "      <td>Check out this video on YouTube:﻿</td>\n",
       "      <td>1</td>\n",
       "    </tr>\n",
       "    <tr>\n",
       "      <th>491</th>\n",
       "      <td>Hey guys subscribe to my channel for no reason...</td>\n",
       "      <td>1</td>\n",
       "    </tr>\n",
       "    <tr>\n",
       "      <th>939</th>\n",
       "      <td>Check out this video on YouTube:﻿</td>\n",
       "      <td>1</td>\n",
       "    </tr>\n",
       "  </tbody>\n",
       "</table>\n",
       "</div>"
      ],
      "text/plain": [
       "                                                CONTENT  CLASS\n",
       "730   This Will Always Be My Favorite Song<br />But ...      0\n",
       "547     What does that tattoo on her right tricep say?﻿      0\n",
       "1007                  Check out this video on YouTube:﻿      1\n",
       "491   Hey guys subscribe to my channel for no reason...      1\n",
       "939                   Check out this video on YouTube:﻿      1"
      ]
     },
     "execution_count": 83,
     "metadata": {},
     "output_type": "execute_result"
    }
   ],
   "source": [
    "dfYT_train = dfYT_train.drop(['COMMENT_ID', 'AUTHOR','DATE'], axis = 1)\n",
    "dfYT_test = dfYT_test.drop(['COMMENT_ID', 'AUTHOR','DATE'], axis = 1)\n",
    "\n",
    "dfYT_train.head()"
   ]
  },
  {
   "cell_type": "code",
   "execution_count": 84,
   "metadata": {},
   "outputs": [
    {
     "data": {
      "image/png": "[encoded data removed]",
      "text/plain": [
       "<matplotlib.figure.Figure at 0xc924278>"
      ]
     },
     "metadata": {},
     "output_type": "display_data"
    }
   ],
   "source": [
    "import matplotlib.pyplot as plt\n",
    "fig = plt.figure(figsize=(8,6))\n",
    "dfYT_train.groupby('CLASS').CONTENT.count().plot.bar(ylim=0)\n",
    "plt.show()"
   ]
  },
  {
   "cell_type": "code",
   "execution_count": 85,
   "metadata": {},
   "outputs": [
    {
     "data": {
      "image/png": "[encoded data removed]",
      "text/plain": [
       "<matplotlib.figure.Figure at 0xc924d68>"
      ]
     },
     "metadata": {},
     "output_type": "display_data"
    }
   ],
   "source": [
    "import matplotlib.pyplot as plt\n",
    "fig = plt.figure(figsize=(8,6))\n",
    "dfYT_test.groupby('CLASS').CONTENT.count().plot.bar(ylim=0)\n",
    "plt.show()"
   ]
  },
  {
   "cell_type": "code",
   "execution_count": 86,
   "metadata": {},
   "outputs": [],
   "source": [
    "def fit_and_predict(nome, modelo):\n",
    "    text_clf = Pipeline([('vect', CountVectorizer(stop_words='english')), ('tfidf', TfidfTransformer()), \n",
    "                     ('clfNB', modelo)])\n",
    "    text_clf = text_clf.fit(dfYT_train.CONTENT, dfYT_train.CLASS)\n",
    "    predicted = text_clf.predict(dfYT_test.CONTENT)\n",
    "    accuracy = np.mean(predicted == dfYT_test.CLASS)\n",
    "    \n",
    "    print('Acuracia %s: %.2f' % (nome, (accuracy * 100)))"
   ]
  },
  {
   "cell_type": "code",
   "execution_count": 87,
   "metadata": {},
   "outputs": [
    {
     "name": "stdout",
     "output_type": "stream",
     "text": [
      "Acuracia MultinomialNB: 85.33\n"
     ]
    }
   ],
   "source": [
    "from sklearn.naive_bayes import MultinomialNB\n",
    "\n",
    "modeloMNB = MultinomialNB()\n",
    "resultadoMNB = fit_and_predict('MultinomialNB',modeloMNB)"
   ]
  },
  {
   "cell_type": "code",
   "execution_count": 88,
   "metadata": {},
   "outputs": [
    {
     "name": "stdout",
     "output_type": "stream",
     "text": [
      "Acuracia RandomForestClassifier: 90.59\n"
     ]
    }
   ],
   "source": [
    "from sklearn.ensemble import RandomForestClassifier\n",
    "\n",
    "modeloRandom = RandomForestClassifier()\n",
    "resultadoMNB = fit_and_predict('RandomForestClassifier',modeloRandom)"
   ]
  },
  {
   "cell_type": "code",
   "execution_count": 89,
   "metadata": {},
   "outputs": [
    {
     "name": "stdout",
     "output_type": "stream",
     "text": [
      "Acuracia LinearSVC: 93.03\n"
     ]
    }
   ],
   "source": [
    "from sklearn.svm import LinearSVC\n",
    "\n",
    "modeloLinear = LinearSVC()\n",
    "resultadoMNB = fit_and_predict('LinearSVC',modeloLinear)"
   ]
  },
  {
   "cell_type": "code",
   "execution_count": 90,
   "metadata": {},
   "outputs": [
    {
     "name": "stdout",
     "output_type": "stream",
     "text": [
      "Acuracia LogisticRegression: 90.83\n"
     ]
    }
   ],
   "source": [
    "from sklearn.linear_model import LogisticRegression\n",
    "\n",
    "modeloLR = LogisticRegression()\n",
    "resultadoMNB = fit_and_predict('LogisticRegression',modeloLR)"
   ]
  },
  {
   "cell_type": "code",
   "execution_count": null,
   "metadata": {},
   "outputs": [],
   "source": []
  }
 ],
 "metadata": {
  "kernelspec": {
   "display_name": "Python 3",
   "language": "python",
   "name": "python3"
  },
  "language_info": {
   "codemirror_mode": {
    "name": "ipython",
    "version": 3
   },
   "file_extension": ".py",
   "mimetype": "text/x-python",
   "name": "python",
   "nbconvert_exporter": "python",
   "pygments_lexer": "ipython3",
   "version": "3.6.2"
  }
 },
 "nbformat": 4,
 "nbformat_minor": 2
}
